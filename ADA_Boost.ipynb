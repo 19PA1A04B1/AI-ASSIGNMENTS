{
  "nbformat": 4,
  "nbformat_minor": 0,
  "metadata": {
    "colab": {
      "name": "ADA Boost.ipynb",
      "provenance": [],
      "collapsed_sections": [],
      "include_colab_link": true
    },
    "kernelspec": {
      "name": "python3",
      "display_name": "Python 3"
    }
  },
  "cells": [
    {
      "cell_type": "markdown",
      "metadata": {
        "id": "view-in-github",
        "colab_type": "text"
      },
      "source": [
        "<a href=\"https://colab.research.google.com/github/19PA1A04B1/AI-ASSIGNMENTS/blob/master/ADA_Boost.ipynb\" target=\"_parent\"><img src=\"https://colab.research.google.com/assets/colab-badge.svg\" alt=\"Open In Colab\"/></a>"
      ]
    },
    {
      "cell_type": "markdown",
      "metadata": {
        "id": "LQk429Pv2Mlb",
        "colab_type": "text"
      },
      "source": [
        "\n",
        "# **ADA boost model**"
      ]
    },
    {
      "cell_type": "code",
      "metadata": {
        "id": "gPRNkURdeKjM",
        "colab_type": "code",
        "colab": {}
      },
      "source": [
        "# importimg required libraries\n",
        "from sklearn.ensemble import AdaBoostClassifier\n",
        "from sklearn.tree import DecisionTreeClassifier\n",
        "import pandas as pd\n",
        "import numpy as np\n",
        "from sklearn.model_selection import train_test_split\n",
        "from sklearn.metrics import confusion_matrix\n"
      ],
      "execution_count": 0,
      "outputs": []
    },
    {
      "cell_type": "code",
      "metadata": {
        "id": "SmRqbwZwKn1V",
        "colab_type": "code",
        "colab": {}
      },
      "source": [
        "# reading data\n",
        "ipl=pd.read_csv(\"Iris.csv\")\n",
        "ipl"
      ],
      "execution_count": 0,
      "outputs": []
    },
    {
      "cell_type": "code",
      "metadata": {
        "colab_type": "code",
        "id": "Aj28WIzPwCjj",
        "colab": {}
      },
      "source": [
        "ipl.isna().any() # to find NA's"
      ],
      "execution_count": 0,
      "outputs": []
    },
    {
      "cell_type": "code",
      "metadata": {
        "colab_type": "code",
        "id": "GETveI6pu1BU",
        "colab": {}
      },
      "source": [
        "#converting catorical feature to numerical feature\n",
        "ipl['Species'].replace(to_replace=['Iris-setosa','Iris-versicolor','Iris-virginica'], value=[0,1,2],inplace=True)\n",
        "ipl.head()"
      ],
      "execution_count": 0,
      "outputs": []
    },
    {
      "cell_type": "code",
      "metadata": {
        "id": "MuonsZJ9frQT",
        "colab_type": "code",
        "colab": {}
      },
      "source": [
        "# declaring featuresa and target variable\n",
        "X = ipl[['SepalWidthCm','PetalLengthCm','PetalWidthCm','SepalLengthCm']].values\n",
        "y= ipl['Species'].values\n",
        "print('X=',X)\n",
        "print('y=',y)"
      ],
      "execution_count": 0,
      "outputs": []
    },
    {
      "cell_type": "code",
      "metadata": {
        "id": "V1h1AU-LgN4b",
        "colab_type": "code",
        "colab": {}
      },
      "source": [
        "# splitting of data into train and test\n",
        "X_train, X_test, y_train, y_test = train_test_split(X, y, test_size=0.3,random_state=149)"
      ],
      "execution_count": 0,
      "outputs": []
    },
    {
      "cell_type": "code",
      "metadata": {
        "id": "SGqpVe2cgN3K",
        "colab_type": "code",
        "colab": {}
      },
      "source": [
        "print(\"X_train\",X_train)\n",
        "print(\"X_test\",X_test)\n",
        "\n",
        "print(\"y_train\",y_train)\n",
        "print(\"y_test\",y_test)"
      ],
      "execution_count": 0,
      "outputs": []
    },
    {
      "cell_type": "code",
      "metadata": {
        "id": "kNhA9U88pJNa",
        "colab_type": "code",
        "colab": {}
      },
      "source": [
        "#now building  adaboostclassifier on training sets and fitting \n",
        "classifier = AdaBoostClassifier(\n",
        "    DecisionTreeClassifier(max_depth=1),\n",
        "    n_estimators=100\n",
        ")\n",
        "classifier.fit(X_train, y_train)"
      ],
      "execution_count": 0,
      "outputs": []
    },
    {
      "cell_type": "code",
      "metadata": {
        "id": "eaTg7vojrPXl",
        "colab_type": "code",
        "colab": {}
      },
      "source": [
        "#now predicting based on x_test values\n",
        "predictions = classifier.predict(X_test)\n",
        "predictions"
      ],
      "execution_count": 0,
      "outputs": []
    },
    {
      "cell_type": "code",
      "metadata": {
        "id": "iryk7IvuBUnT",
        "colab_type": "code",
        "colab": {}
      },
      "source": [
        "y_test=y_test\n",
        "predictions=predictions.reshape(-1,)\n",
        "\n",
        "\n",
        "diff=pd.DataFrame({'Actual':y_test,'Predicted':predictions})\n",
        "diff"
      ],
      "execution_count": 0,
      "outputs": []
    },
    {
      "cell_type": "code",
      "metadata": {
        "id": "NH8ww4RcU0ac",
        "colab_type": "code",
        "colab": {}
      },
      "source": [
        "#  classification  report of our model\n",
        "from sklearn.metrics import classification_report\n",
        "print(classification_report(y_test,predictions))\n",
        "\n",
        "\n"
      ],
      "execution_count": 0,
      "outputs": []
    },
    {
      "cell_type": "code",
      "metadata": {
        "id": "HCy7zre2BUlV",
        "colab_type": "code",
        "colab": {}
      },
      "source": [
        "from sklearn.metrics import mean_squared_error#calculating error of our model\n",
        "mean_squared_error(diff['Actual'],diff['Predicted'])\n"
      ],
      "execution_count": 0,
      "outputs": []
    },
    {
      "cell_type": "code",
      "metadata": {
        "colab_type": "code",
        "id": "lK-M-KAI7sn1",
        "colab": {}
      },
      "source": [
        "# Model Accuracy, how often is the classifier correct?\n",
        "print(\"Accuracy:\",metrics.accuracy_score(y_test, predictions))"
      ],
      "execution_count": 0,
      "outputs": []
    },
    {
      "cell_type": "code",
      "metadata": {
        "id": "i9-9LpiobV3-",
        "colab_type": "code",
        "colab": {}
      },
      "source": [
        ""
      ],
      "execution_count": 0,
      "outputs": []
    },
    {
      "cell_type": "markdown",
      "metadata": {
        "id": "FkkkNJUr8-iy",
        "colab_type": "text"
      },
      "source": [
        "# accuracy of classifier through ada boost method =**95%**"
      ]
    },
    {
      "cell_type": "markdown",
      "metadata": {
        "id": "jRE38xon1y3I",
        "colab_type": "text"
      },
      "source": [
        "# **Decision tree model** "
      ]
    },
    {
      "cell_type": "code",
      "metadata": {
        "id": "Vcxf5ktUwNuc",
        "colab_type": "code",
        "colab": {}
      },
      "source": [
        "#importing decision tree classifier\n",
        "from sklearn.tree import DecisionTreeClassifier\n"
      ],
      "execution_count": 0,
      "outputs": []
    },
    {
      "cell_type": "code",
      "metadata": {
        "id": "Pw2A2RSwzOBB",
        "colab_type": "code",
        "colab": {}
      },
      "source": [
        "#fittting the training set into model\n",
        "dt = DecisionTreeClassifier()\n",
        "dt.fit(X_train, y_train)\n"
      ],
      "execution_count": 0,
      "outputs": []
    },
    {
      "cell_type": "code",
      "metadata": {
        "id": "3gXxVuprzapk",
        "colab_type": "code",
        "colab": {}
      },
      "source": [
        "\n",
        "#testing the model\n",
        "predict = dt.predict(X_test)\n",
        "predict"
      ],
      "execution_count": 0,
      "outputs": []
    },
    {
      "cell_type": "code",
      "metadata": {
        "colab_type": "code",
        "id": "9n1SZK_01Pm8",
        "colab": {}
      },
      "source": [
        "#comparing actual with prediction\n",
        "y_test=y_test\n",
        "predict=predict.reshape(-1,)\n",
        "\n",
        "diff=pd.DataFrame({'Actual':y_test,'Predicted':predict})\n",
        "diff"
      ],
      "execution_count": 0,
      "outputs": []
    },
    {
      "cell_type": "code",
      "metadata": {
        "colab_type": "code",
        "id": "7KDaJgv-21Qz",
        "colab": {}
      },
      "source": [
        "#  classification  report of our model\n",
        "from sklearn.metrics import classification_report\n",
        "print(classification_report(y_test,predict))\n",
        "\n"
      ],
      "execution_count": 0,
      "outputs": []
    },
    {
      "cell_type": "code",
      "metadata": {
        "colab_type": "code",
        "id": "H8OWr1Qn477_",
        "colab": {}
      },
      "source": [
        "#calculating error\n",
        "from sklearn.metrics import mean_squared_error\n",
        "mean_squared_error(diff['Actual'],diff['Predicted'])\n"
      ],
      "execution_count": 0,
      "outputs": []
    },
    {
      "cell_type": "code",
      "metadata": {
        "id": "G2wt601v7NF6",
        "colab_type": "code",
        "colab": {}
      },
      "source": [
        "# Model Accuracy, how often is the classifier correct?\n",
        "print(\"Accuracy:\",metrics.accuracy_score(y_test, predict))"
      ],
      "execution_count": 0,
      "outputs": []
    },
    {
      "cell_type": "markdown",
      "metadata": {
        "colab_type": "text",
        "id": "DONAbSQX9YM2"
      },
      "source": [
        "# accuracy of classifier through Decision tree method =**91%**"
      ]
    },
    {
      "cell_type": "markdown",
      "metadata": {
        "id": "MekNYK2E9iuU",
        "colab_type": "text"
      },
      "source": [
        "# **Report**\n",
        "\n",
        "**from the above we find the accuracy of the model is good by using ensemble method (ada boost)  then generalclassifier like  svm , decissiontree ,kNNclassifier etc**\n",
        "\n",
        "**The differcence is small but this small differnce has its significance in some cases**\n",
        "\n"
      ]
    }
  ]
}